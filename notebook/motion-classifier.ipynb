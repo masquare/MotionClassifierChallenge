{
 "cells": [
  {
   "cell_type": "markdown",
   "metadata": {
    "slideshow": {
     "slide_type": "-"
    }
   },
   "source": [
    "# Motion Classifier for Accelerometer Data\n",
    "The implemented neural network predicts the motion based on accelerometer data from an iOS phone.\n",
    "The dataset consists of training samples made from x,y,z-accelerometer values as recorded by iOS and the associated motion type (idle, run, walk).\n",
    "The here implemented and trained model is exported for use in iOS CoreML."
   ]
  },
  {
   "cell_type": "code",
   "execution_count": 1,
   "metadata": {
    "slideshow": {
     "slide_type": "-"
    }
   },
   "outputs": [
    {
     "name": "stderr",
     "output_type": "stream",
     "text": [
      "Using TensorFlow backend.\n"
     ]
    }
   ],
   "source": [
    "import sklearn\n",
    "import matplotlib.pyplot as plt\n",
    "%matplotlib inline\n",
    "import pandas as pd\n",
    "import numpy as np\n",
    "import seaborn as sns\n",
    "\n",
    "from sklearn import model_selection\n",
    "\n",
    "import keras\n",
    "from keras import layers\n",
    "\n",
    "import os\n",
    "os.environ['KMP_DUPLICATE_LIB_OK']='True'"
   ]
  },
  {
   "cell_type": "markdown",
   "metadata": {
    "slideshow": {
     "slide_type": "slide"
    }
   },
   "source": [
    "## Load and Inspect the Dataset"
   ]
  },
  {
   "cell_type": "code",
   "execution_count": 2,
   "metadata": {
    "slideshow": {
     "slide_type": "-"
    }
   },
   "outputs": [
    {
     "data": {
      "text/html": [
       "<div>\n",
       "<style scoped>\n",
       "    .dataframe tbody tr th:only-of-type {\n",
       "        vertical-align: middle;\n",
       "    }\n",
       "\n",
       "    .dataframe tbody tr th {\n",
       "        vertical-align: top;\n",
       "    }\n",
       "\n",
       "    .dataframe thead th {\n",
       "        text-align: right;\n",
       "    }\n",
       "</style>\n",
       "<table border=\"1\" class=\"dataframe\">\n",
       "  <thead>\n",
       "    <tr style=\"text-align: right;\">\n",
       "      <th></th>\n",
       "      <th>type</th>\n",
       "      <th>x</th>\n",
       "      <th>y</th>\n",
       "      <th>z</th>\n",
       "    </tr>\n",
       "  </thead>\n",
       "  <tbody>\n",
       "    <tr>\n",
       "      <th>count</th>\n",
       "      <td>8199.000000</td>\n",
       "      <td>8199.000000</td>\n",
       "      <td>8199.000000</td>\n",
       "      <td>8199.000000</td>\n",
       "    </tr>\n",
       "    <tr>\n",
       "      <th>mean</th>\n",
       "      <td>1.110989</td>\n",
       "      <td>-0.189114</td>\n",
       "      <td>-0.058911</td>\n",
       "      <td>-0.743541</td>\n",
       "    </tr>\n",
       "    <tr>\n",
       "      <th>std</th>\n",
       "      <td>0.782914</td>\n",
       "      <td>0.651654</td>\n",
       "      <td>0.505924</td>\n",
       "      <td>0.850336</td>\n",
       "    </tr>\n",
       "    <tr>\n",
       "      <th>min</th>\n",
       "      <td>0.000000</td>\n",
       "      <td>-3.463000</td>\n",
       "      <td>-2.243000</td>\n",
       "      <td>-5.505000</td>\n",
       "    </tr>\n",
       "    <tr>\n",
       "      <th>25%</th>\n",
       "      <td>0.000000</td>\n",
       "      <td>-0.521000</td>\n",
       "      <td>-0.306000</td>\n",
       "      <td>-1.037500</td>\n",
       "    </tr>\n",
       "    <tr>\n",
       "      <th>50%</th>\n",
       "      <td>1.000000</td>\n",
       "      <td>-0.152000</td>\n",
       "      <td>-0.080000</td>\n",
       "      <td>-0.730000</td>\n",
       "    </tr>\n",
       "    <tr>\n",
       "      <th>75%</th>\n",
       "      <td>2.000000</td>\n",
       "      <td>0.053000</td>\n",
       "      <td>0.165000</td>\n",
       "      <td>-0.266500</td>\n",
       "    </tr>\n",
       "    <tr>\n",
       "      <th>max</th>\n",
       "      <td>2.000000</td>\n",
       "      <td>3.612000</td>\n",
       "      <td>2.079000</td>\n",
       "      <td>1.679000</td>\n",
       "    </tr>\n",
       "  </tbody>\n",
       "</table>\n",
       "</div>"
      ],
      "text/plain": [
       "              type            x            y            z\n",
       "count  8199.000000  8199.000000  8199.000000  8199.000000\n",
       "mean      1.110989    -0.189114    -0.058911    -0.743541\n",
       "std       0.782914     0.651654     0.505924     0.850336\n",
       "min       0.000000    -3.463000    -2.243000    -5.505000\n",
       "25%       0.000000    -0.521000    -0.306000    -1.037500\n",
       "50%       1.000000    -0.152000    -0.080000    -0.730000\n",
       "75%       2.000000     0.053000     0.165000    -0.266500\n",
       "max       2.000000     3.612000     2.079000     1.679000"
      ]
     },
     "execution_count": 2,
     "metadata": {},
     "output_type": "execute_result"
    }
   ],
   "source": [
    "# load the dataset from private server\n",
    "dataset = pd.read_csv('https://example.com/data.csv')\n",
    "dataset.columns = ['type', 'x', 'y', 'z']\n",
    "dataset.describe()"
   ]
  },
  {
   "cell_type": "code",
   "execution_count": 3,
   "metadata": {
    "slideshow": {
     "slide_type": "-"
    }
   },
   "outputs": [
    {
     "data": {
      "image/png": "[encoded data removed]",
      "text/plain": [
       "<Figure size 1080x360 with 3 Axes>"
      ]
     },
     "metadata": {
      "needs_background": "light"
     },
     "output_type": "display_data"
    }
   ],
   "source": [
    "_, axs = plt.subplots(1,2, figsize=(15,5))\n",
    "axs = axs.ravel()\n",
    "\n",
    "axs[0].set_title(\"xyz-values and types of action\")\n",
    "dataset.drop(columns='type').plot(ax=axs[0], alpha=0.7)\n",
    "axs[0].pcolorfast(axs[0].get_xlim(), axs[0].get_ylim(),\n",
    "              dataset['type'].values[np.newaxis],\n",
    "              alpha=0.3)\n",
    "\n",
    "axs[1].set_title(\"Correlation Matrix\")\n",
    "corr = dataset.corr()\n",
    "_ = sns.heatmap(corr, \n",
    "            xticklabels=corr.columns.values,\n",
    "            yticklabels=corr.columns.values,\n",
    "            mask=np.zeros_like(corr, dtype=np.bool),\n",
    "            cmap=sns.diverging_palette(220, 10, as_cmap=True),\n",
    "            square=True, ax=axs[1])"
   ]
  },
  {
   "cell_type": "markdown",
   "metadata": {},
   "source": [
    "## Prepare the Data for Model Training and Evaluation"
   ]
  },
  {
   "cell_type": "code",
   "execution_count": 4,
   "metadata": {},
   "outputs": [],
   "source": [
    "# %load util.py\n",
    "def series_to_supervised(df, n_in=1, n_out=1, output_columns=[], dropnan=True):\n",
    "    \"\"\"\n",
    "    Frame a time series as a supervised learning dataset.\n",
    "    Arguments:\n",
    "        df: Sequence of observations as a DataFrame.\n",
    "        n_in: Number of lag observations as input (X).\n",
    "        n_out: Number of observations as output (y).\n",
    "        output_columns: list of column names to preserve for the output\n",
    "        dropnan: Boolean whether or not to drop rows with NaN values.\n",
    "    Returns:\n",
    "        data and labels of series framed for supervised learning.\n",
    "    \"\"\"\n",
    "    column_names = list(df.columns)\n",
    "    if output_columns != [] and not all(x in column_names for x in output_columns):\n",
    "        raise Exception('Invalid output_columns %s for columns %s' % (output_columns, column_names))\n",
    "    \n",
    "    output_column_names = output_columns if output_columns != [] else column_names.copy()\n",
    "    output_column_names_to_drop = list(set(column_names) - set(output_column_names))\n",
    "\n",
    "    cols, names = list(), list()\n",
    "    # input sequence (t-n, ... t-1)\n",
    "    for i in range(n_in, 0, -1):\n",
    "        to_append = df.shift(i).drop(columns=output_column_names)\n",
    "        cols.append(to_append)\n",
    "        names += [('%s(t-%d)' % (j, i)) for j in output_column_names_to_drop]\n",
    "        \n",
    "    # forecast sequence (t, t+1, ... t+n)\n",
    "    forecast_features = list()\n",
    "    forecast_features_names = list()\n",
    "    for i in range(0, n_out):\n",
    "        to_append = df.shift(-i).drop(columns=output_column_names_to_drop)\n",
    "        cols.append(to_append)\n",
    "        if i == 0:\n",
    "            names += [('%s(t)' % (j)) for j in to_append.columns]\n",
    "        else:\n",
    "            names += [('%s(t+%d)' % (j, i)) for j in to_append.columns]\n",
    "            \n",
    "    # put it all together\n",
    "    agg = pd.concat(cols, axis=1)\n",
    "    agg.columns = names\n",
    "    \n",
    "    # drop rows with NaN values\n",
    "    if dropnan:\n",
    "        agg.dropna(inplace=True)\n",
    "        \n",
    "    label_columns = n_out * len(output_columns) \n",
    "    labels = agg.iloc[:, -label_columns:]\n",
    "    data = agg.iloc[:, :-label_columns]\n",
    "        \n",
    "    return data, labels"
   ]
  },
  {
   "cell_type": "code",
   "execution_count": 5,
   "metadata": {},
   "outputs": [
    {
     "name": "stdout",
     "output_type": "stream",
     "text": [
      "x_train: (7199, 600), y_train: (7199, 3), x_test: (800, 600), y_test: (800, 3)\n"
     ]
    }
   ],
   "source": [
    "scaled_data = dataset\n",
    "n_back = 200\n",
    "n_forward = 1\n",
    "data, labels = series_to_supervised(dataset, n_back, n_forward, output_columns=['type'])\n",
    "\n",
    "# One-hot encoding of labels\n",
    "labels = sklearn.preprocessing.OneHotEncoder(sparse=False, categories='auto').fit_transform(labels)\n",
    "\n",
    "x_train, x_test, y_train, y_test = model_selection.train_test_split(data.to_numpy(), labels, test_size=0.1, shuffle=True, random_state=123)\n",
    "print(\"x_train: %s, y_train: %s, x_test: %s, y_test: %s\" % (x_train.shape, y_train.shape, x_test.shape, y_test.shape))"
   ]
  },
  {
   "cell_type": "markdown",
   "metadata": {},
   "source": [
    "## Build and Train the Network\n",
    "Build a CNN based on Keras using multiple convolutional and pooling layers. Overfitting is tackled by adding a dropout to every convolutional layer. The model predicts the probability for each of the output classes. Using a softmax activation at the output layer, we get an accumulated probability of 1 for all of the classes."
   ]
  },
  {
   "cell_type": "code",
   "execution_count": 6,
   "metadata": {},
   "outputs": [
    {
     "name": "stdout",
     "output_type": "stream",
     "text": [
      "_________________________________________________________________\n",
      "Layer (type)                 Output Shape              Param #   \n",
      "=================================================================\n",
      "reshape_1 (Reshape)          (None, 200, 3)            0         \n",
      "_________________________________________________________________\n",
      "conv1d_1 (Conv1D)            (None, 191, 5)            155       \n",
      "_________________________________________________________________\n",
      "dropout_1 (Dropout)          (None, 191, 5)            0         \n",
      "_________________________________________________________________\n",
      "conv1d_2 (Conv1D)            (None, 182, 5)            255       \n",
      "_________________________________________________________________\n",
      "dropout_2 (Dropout)          (None, 182, 5)            0         \n",
      "_________________________________________________________________\n",
      "max_pooling1d_1 (MaxPooling1 (None, 60, 5)             0         \n",
      "_________________________________________________________________\n",
      "conv1d_3 (Conv1D)            (None, 51, 5)             255       \n",
      "_________________________________________________________________\n",
      "dropout_3 (Dropout)          (None, 51, 5)             0         \n",
      "_________________________________________________________________\n",
      "global_average_pooling1d_1 ( (None, 5)                 0         \n",
      "_________________________________________________________________\n",
      "dense_1 (Dense)              (None, 3)                 18        \n",
      "=================================================================\n",
      "Total params: 683\n",
      "Trainable params: 683\n",
      "Non-trainable params: 0\n",
      "_________________________________________________________________\n"
     ]
    }
   ],
   "source": [
    "model = keras.models.Sequential()\n",
    "\n",
    "dropout_rate=0.2\n",
    "\n",
    "model.add(layers.Reshape((n_back, 3), input_shape=(x_train.shape[1],)))\n",
    "model.add(layers.Conv1D(5, 10, activation='relu'))\n",
    "model.add(layers.Dropout(dropout_rate))\n",
    "model.add(layers.Conv1D(5, 10, activation='relu'))\n",
    "model.add(layers.Dropout(dropout_rate))\n",
    "model.add(layers.MaxPooling1D(3))\n",
    "model.add(layers.Conv1D(5, 10, activation='relu'))\n",
    "model.add(layers.Dropout(dropout_rate))\n",
    "model.add(layers.GlobalAveragePooling1D())\n",
    "model.add(layers.Dense(labels.shape[1], activation='softmax'))\n",
    "\n",
    "model.compile(loss='categorical_crossentropy', optimizer='adam', metrics=['accuracy', 'mae'])\n",
    "model.summary()"
   ]
  },
  {
   "cell_type": "code",
   "execution_count": 7,
   "metadata": {},
   "outputs": [
    {
     "name": "stdout",
     "output_type": "stream",
     "text": [
      "\n",
      "........................."
     ]
    }
   ],
   "source": [
    "# Display training progress by printing a single dot for each completed epoch\n",
    "class PrintDot(keras.callbacks.Callback):\n",
    "  def on_epoch_end(self, epoch, logs):\n",
    "    if epoch % 100 == 0: print('')\n",
    "    print('.', end='')\n",
    "\n",
    "EPOCHS = 25\n",
    "\n",
    "early_stop = keras.callbacks.EarlyStopping(monitor='acc', patience=5)\n",
    "history = model.fit(x_train, y_train, epochs=EPOCHS, validation_split=0.2, verbose=0, callbacks=[early_stop, PrintDot()])"
   ]
  },
  {
   "cell_type": "code",
   "execution_count": 8,
   "metadata": {},
   "outputs": [
    {
     "data": {
      "image/png": "[encoded data removed]",
      "text/plain": [
       "<Figure size 432x288 with 1 Axes>"
      ]
     },
     "metadata": {
      "needs_background": "light"
     },
     "output_type": "display_data"
    }
   ],
   "source": [
    "hist = pd.DataFrame(history.history)\n",
    "hist['epoch'] = history.epoch\n",
    "\n",
    "plt.figure()\n",
    "plt.xlabel('Epoch')\n",
    "plt.ylabel('Mean Accuracy')\n",
    "plt.plot(hist['epoch'], hist['acc'], label='Train Accuracy')\n",
    "plt.plot(hist['epoch'], hist['val_acc'], label = 'Val Accuracy')\n",
    "plt.legend()\n",
    "plt.show()"
   ]
  },
  {
   "cell_type": "markdown",
   "metadata": {},
   "source": [
    "## Predict the Test Data"
   ]
  },
  {
   "cell_type": "code",
   "execution_count": 9,
   "metadata": {},
   "outputs": [
    {
     "name": "stdout",
     "output_type": "stream",
     "text": [
      "800/800 [==============================] - 1s 1ms/step\n"
     ]
    }
   ],
   "source": [
    "yhat = model.predict(x_test, verbose=1)"
   ]
  },
  {
   "cell_type": "markdown",
   "metadata": {},
   "source": [
    "## Plot Test Accuracy and Confusion Matrix"
   ]
  },
  {
   "cell_type": "code",
   "execution_count": 10,
   "metadata": {},
   "outputs": [
    {
     "data": {
      "image/png": "[encoded data removed]",
      "text/plain": [
       "<Figure size 1080x360 with 3 Axes>"
      ]
     },
     "metadata": {
      "needs_background": "light"
     },
     "output_type": "display_data"
    },
    {
     "data": {
      "text/plain": [
       "<Figure size 432x288 with 0 Axes>"
      ]
     },
     "metadata": {},
     "output_type": "display_data"
    }
   ],
   "source": [
    "LABELS = [\"idle\", \"walk\", \"run\"]\n",
    "\n",
    "_, axs = plt.subplots(1,2, figsize=(15, 5))\n",
    "axs = axs.ravel()\n",
    "\n",
    "# Prediction accuracy\n",
    "for i in range(y_test.shape[1]):\n",
    "    axs[0].scatter(y_test[:,i], yhat[:,i], label='%s' % LABELS[i], alpha=.5)\n",
    "axs[0].set_xlabel('True Values')\n",
    "axs[0].set_ylabel('Predictions')\n",
    "axs[0].set_title('Prediction accuracy')\n",
    "axs[0].legend()\n",
    "axs[0].axis('square')\n",
    "axs[0].plot([0, 1], [0, 1])\n",
    "\n",
    "# confusion matrix\n",
    "matrix = sklearn.metrics.confusion_matrix(np.argmax(y_test, axis=1), np.argmax(yhat, axis=1))\n",
    "plt.figure(figsize=(6, 4))\n",
    "sns.heatmap(matrix,\n",
    "            cmap=\"coolwarm\",\n",
    "            linecolor='white',\n",
    "            linewidths=1,\n",
    "            xticklabels=LABELS,\n",
    "            yticklabels=LABELS,\n",
    "            annot=True,\n",
    "            fmt=\"d\",\n",
    "            ax=axs[1])\n",
    "axs[1].set_title(\"Confusion Matrix\")\n",
    "axs[1].set_xlabel(\"Predicted Label\")\n",
    "axs[1].set_ylabel(\"True Label\")\n",
    "plt.show()"
   ]
  },
  {
   "cell_type": "markdown",
   "metadata": {},
   "source": [
    "## Export for iOS CoreML\n",
    "Export the trained model so that it can be used with iOS CoreML."
   ]
  },
  {
   "cell_type": "code",
   "execution_count": 11,
   "metadata": {},
   "outputs": [
    {
     "name": "stdout",
     "output_type": "stream",
     "text": [
      "0 : reshape_1_input, <keras.engine.input_layer.InputLayer object at 0x1a3cfbbf98>\n",
      "1 : reshape_1, <keras.layers.core.Reshape object at 0x1a3cf87908>\n",
      "2 : reshape_1_permute_conv1d_1, <keras.layers.core.Permute object at 0x1a47a847f0>\n",
      "3 : conv1d_1, <keras.layers.convolutional.Conv1D object at 0x1a3cfbbba8>\n",
      "4 : conv1d_1__activation__, <keras.layers.core.Activation object at 0x1a47a84e48>\n",
      "5 : conv1d_2, <keras.layers.convolutional.Conv1D object at 0x1a3cc083c8>\n",
      "6 : conv1d_2__activation__, <keras.layers.core.Activation object at 0x1a47f7fa20>\n",
      "7 : max_pooling1d_1, <keras.layers.pooling.MaxPooling1D object at 0x1a3cc34160>\n",
      "8 : conv1d_3, <keras.layers.convolutional.Conv1D object at 0x1a3cc6afd0>\n",
      "9 : conv1d_3__activation__, <keras.layers.core.Activation object at 0x1a47f7fb38>\n",
      "10 : global_average_pooling1d_1, <keras.layers.pooling.GlobalAveragePooling1D object at 0x1a3cc83160>\n",
      "11 : global_average_pooling1d_1_permute_dense_1, <keras.layers.core.Permute object at 0x1a47a84d30>\n",
      "12 : dense_1, <keras.layers.core.Dense object at 0x1a3ca57e80>\n",
      "13 : dense_1__activation__, <keras.layers.core.Activation object at 0x1a47f7fa90>\n"
     ]
    }
   ],
   "source": [
    "import coremltools\n",
    "model.name = \"MotionClassifier\"\n",
    "coreml_model = coremltools.converters.keras.convert(model, output_names=['prediction'], class_labels=LABELS)\n",
    "coreml_model.save('data/motion-classifier.mlmodel')"
   ]
  }
 ],
 "metadata": {
  "kernelspec": {
   "display_name": "Python 3",
   "language": "python",
   "name": "python3"
  },
  "language_info": {
   "codemirror_mode": {
    "name": "ipython",
    "version": 3
   },
   "file_extension": ".py",
   "mimetype": "text/x-python",
   "name": "python",
   "nbconvert_exporter": "python",
   "pygments_lexer": "ipython3",
   "version": "3.6.8"
  },
  "varInspector": {
   "cols": {
    "lenName": 16,
    "lenType": 16,
    "lenVar": 40
   },
   "kernels_config": {
    "python": {
     "delete_cmd_postfix": "",
     "delete_cmd_prefix": "del ",
     "library": "var_list.py",
     "varRefreshCmd": "print(var_dic_list())"
    },
    "r": {
     "delete_cmd_postfix": ") ",
     "delete_cmd_prefix": "rm(",
     "library": "var_list.r",
     "varRefreshCmd": "cat(var_dic_list()) "
    }
   },
   "types_to_exclude": [
    "module",
    "function",
    "builtin_function_or_method",
    "instance",
    "_Feature"
   ],
   "window_display": false
  }
 },
 "nbformat": 4,
 "nbformat_minor": 2
}
